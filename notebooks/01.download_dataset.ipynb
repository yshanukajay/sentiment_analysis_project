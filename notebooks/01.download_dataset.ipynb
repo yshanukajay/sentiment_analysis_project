{
 "cells": [
  {
   "cell_type": "code",
   "execution_count": 30,
   "id": "03137ebc-c3d7-4a7e-abbb-d06cffd3f1ee",
   "metadata": {},
   "outputs": [
    {
     "name": "stdout",
     "output_type": "stream",
     "text": [
      "✅ Kaggle API authenticated successfully!\n"
     ]
    }
   ],
   "source": [
    "import os, json\n",
    "from kaggle.api.kaggle_api_extended import KaggleApi\n",
    "\n",
    "# Load kaggle.json (make sure it's in your project folder)\n",
    "with open(\"../artifacts/kaggle.json\", \"r\") as f:\n",
    "    data = json.load(f)\n",
    "\n",
    "# Set environment variables correctly\n",
    "os.environ[\"KAGGLE_USERNAME\"] = data[\"username\"]\n",
    "os.environ[\"KAGGLE_KEY\"] = data[\"key\"]\n",
    "\n",
    "# Authenticate\n",
    "api = KaggleApi()\n",
    "api.authenticate()\n",
    "print(\"✅ Kaggle API authenticated successfully!\")\n"
   ]
  },
  {
   "cell_type": "code",
   "execution_count": 22,
   "id": "1a05c042-27a6-40c5-8b6d-fe9ffe0e86d2",
   "metadata": {},
   "outputs": [
    {
     "data": {
      "text/plain": [
       "{'username': 'yohanshanuka', 'key': 'd674cc863bd67d6e31ba73a31b8a8669'}"
      ]
     },
     "execution_count": 22,
     "metadata": {},
     "output_type": "execute_result"
    }
   ],
   "source": [
    "data"
   ]
  },
  {
   "cell_type": "code",
   "execution_count": 5,
   "id": "44ac5ed8-59a2-43b0-97e0-0f0dc5017c0d",
   "metadata": {},
   "outputs": [
    {
     "name": "stdout",
     "output_type": "stream",
     "text": [
      "Collecting kaggle\n",
      "  Using cached kaggle-1.7.4.5-py3-none-any.whl.metadata (16 kB)\n",
      "Requirement already satisfied: bleach in c:\\users\\hp\\myworld\\lib\\site-packages (from kaggle) (6.2.0)\n",
      "Requirement already satisfied: certifi>=14.05.14 in c:\\users\\hp\\myworld\\lib\\site-packages (from kaggle) (2025.4.26)\n",
      "Requirement already satisfied: charset-normalizer in c:\\users\\hp\\myworld\\lib\\site-packages (from kaggle) (3.4.2)\n",
      "Requirement already satisfied: idna in c:\\users\\hp\\myworld\\lib\\site-packages (from kaggle) (3.10)\n",
      "Collecting protobuf (from kaggle)\n",
      "  Using cached protobuf-6.32.0-cp310-abi3-win_amd64.whl.metadata (593 bytes)\n",
      "Requirement already satisfied: python-dateutil>=2.5.3 in c:\\users\\hp\\myworld\\lib\\site-packages (from kaggle) (2.9.0.post0)\n",
      "Collecting python-slugify (from kaggle)\n",
      "  Using cached python_slugify-8.0.4-py2.py3-none-any.whl.metadata (8.5 kB)\n",
      "Requirement already satisfied: requests in c:\\users\\hp\\myworld\\lib\\site-packages (from kaggle) (2.32.4)\n",
      "Requirement already satisfied: setuptools>=21.0.0 in c:\\users\\hp\\myworld\\lib\\site-packages (from kaggle) (80.3.1)\n",
      "Requirement already satisfied: six>=1.10 in c:\\users\\hp\\myworld\\lib\\site-packages (from kaggle) (1.17.0)\n",
      "Collecting text-unidecode (from kaggle)\n",
      "  Using cached text_unidecode-1.3-py2.py3-none-any.whl.metadata (2.4 kB)\n",
      "Collecting tqdm (from kaggle)\n",
      "  Using cached tqdm-4.67.1-py3-none-any.whl.metadata (57 kB)\n",
      "Requirement already satisfied: urllib3>=1.15.1 in c:\\users\\hp\\myworld\\lib\\site-packages (from kaggle) (2.4.0)\n",
      "Requirement already satisfied: webencodings in c:\\users\\hp\\myworld\\lib\\site-packages (from kaggle) (0.5.1)\n",
      "Requirement already satisfied: colorama in c:\\users\\hp\\myworld\\lib\\site-packages (from tqdm->kaggle) (0.4.6)\n",
      "Using cached kaggle-1.7.4.5-py3-none-any.whl (181 kB)\n",
      "Using cached protobuf-6.32.0-cp310-abi3-win_amd64.whl (435 kB)\n",
      "Using cached python_slugify-8.0.4-py2.py3-none-any.whl (10 kB)\n",
      "Using cached text_unidecode-1.3-py2.py3-none-any.whl (78 kB)\n",
      "Using cached tqdm-4.67.1-py3-none-any.whl (78 kB)\n",
      "Installing collected packages: text-unidecode, tqdm, python-slugify, protobuf, kaggle\n",
      "\n",
      "   -------- ------------------------------- 1/5 [tqdm]\n",
      "   -------- ------------------------------- 1/5 [tqdm]\n",
      "   ---------------- ----------------------- 2/5 [python-slugify]\n",
      "   ------------------------ --------------- 3/5 [protobuf]\n",
      "   ------------------------ --------------- 3/5 [protobuf]\n",
      "   ------------------------ --------------- 3/5 [protobuf]\n",
      "   ------------------------ --------------- 3/5 [protobuf]\n",
      "   ------------------------ --------------- 3/5 [protobuf]\n",
      "   -------------------------------- ------- 4/5 [kaggle]\n",
      "   -------------------------------- ------- 4/5 [kaggle]\n",
      "   -------------------------------- ------- 4/5 [kaggle]\n",
      "   -------------------------------- ------- 4/5 [kaggle]\n",
      "   -------------------------------- ------- 4/5 [kaggle]\n",
      "   -------------------------------- ------- 4/5 [kaggle]\n",
      "   -------------------------------- ------- 4/5 [kaggle]\n",
      "   ---------------------------------------- 5/5 [kaggle]\n",
      "\n",
      "Successfully installed kaggle-1.7.4.5 protobuf-6.32.0 python-slugify-8.0.4 text-unidecode-1.3 tqdm-4.67.1\n"
     ]
    }
   ],
   "source": [
    "!pip install kaggle"
   ]
  },
  {
   "cell_type": "code",
   "execution_count": 26,
   "id": "7701ac0d-4046-4982-a8c8-8731e27090a4",
   "metadata": {},
   "outputs": [
    {
     "name": "stdout",
     "output_type": "stream",
     "text": [
      "Dataset URL: https://www.kaggle.com/datasets/dineshpiyasamara/sentiment-analysis-dataset\n"
     ]
    }
   ],
   "source": [
    "api.dataset_download_files('dineshpiyasamara/sentiment-analysis-dataset', path = '../artifacts/')"
   ]
  },
  {
   "cell_type": "code",
   "execution_count": 31,
   "id": "19e0722c-c5b8-4f0f-bc54-01820b1fa9c6",
   "metadata": {},
   "outputs": [],
   "source": [
    "import zipfile\n",
    "\n",
    "with zipfile.ZipFile('../artifacts/sentiment-analysis-dataset.zip', 'r') as zip_ref :\n",
    "    zip_ref.extractall('../artifacts/')"
   ]
  },
  {
   "cell_type": "code",
   "execution_count": null,
   "id": "c5d7fbec-42ed-4fe5-9acc-df34ff5b9d28",
   "metadata": {},
   "outputs": [],
   "source": []
  }
 ],
 "metadata": {
  "kernelspec": {
   "display_name": "Python 3 (ipykernel)",
   "language": "python",
   "name": "python3"
  },
  "language_info": {
   "codemirror_mode": {
    "name": "ipython",
    "version": 3
   },
   "file_extension": ".py",
   "mimetype": "text/x-python",
   "name": "python",
   "nbconvert_exporter": "python",
   "pygments_lexer": "ipython3",
   "version": "3.13.7"
  }
 },
 "nbformat": 4,
 "nbformat_minor": 5
}
